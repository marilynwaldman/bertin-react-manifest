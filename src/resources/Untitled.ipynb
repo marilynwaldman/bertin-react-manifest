{
 "cells": [
  {
   "cell_type": "code",
   "execution_count": 1,
   "id": "6328bf0f-1549-427c-aec0-7da915ffee80",
   "metadata": {},
   "outputs": [
    {
     "name": "stdout",
     "output_type": "stream",
     "text": [
      "/Users/marilynwaldman/bertin-react-list/src/resources\n"
     ]
    }
   ],
   "source": [
    "!pwd\n"
   ]
  },
  {
   "cell_type": "code",
   "execution_count": 21,
   "id": "29bfb1ea-6df4-4d7e-9ee7-0ef048a528a1",
   "metadata": {
    "tags": []
   },
   "outputs": [
    {
     "name": "stdout",
     "output_type": "stream",
     "text": [
      "    id                  name  region         pop           gdp     gdppc  \\\n",
      "0  AFG           Afghanistan    Asia  38928341.0  1.980707e+10    508.81   \n",
      "1  AGO                Angola  Africa  32866268.0  6.230691e+10   1895.77   \n",
      "2  ALB               Albania  Europe   2837743.0  1.479962e+10   5215.28   \n",
      "3  AND               Andorra  Europe     77146.0  3.155065e+09  40897.33   \n",
      "4  ARE  United Arab Emirates    Asia   9770526.0  4.211423e+11  43103.34   \n",
      "\n",
      "     year  \n",
      "0  2020.0  \n",
      "1  2020.0  \n",
      "2  2020.0  \n",
      "3  2019.0  \n",
      "4  2019.0  \n"
     ]
    }
   ],
   "source": [
    "import pandas as pd\n",
    "\n",
    "df = pd.read_csv('./data/population.csv')\n",
    "                \n",
    "print(df.head())"
   ]
  },
  {
   "cell_type": "code",
   "execution_count": 22,
   "id": "3c120219-bae9-4b63-bfb2-7e1231b03a4c",
   "metadata": {},
   "outputs": [],
   "source": [
    "df.to_json(r'./data/population.json',orient = \"records\",lines=True)"
   ]
  },
  {
   "cell_type": "code",
   "execution_count": 26,
   "id": "d23b698d-e3a8-4d7f-b32b-0c567af36673",
   "metadata": {},
   "outputs": [],
   "source": [
    "import csv \n",
    "import json \n",
    "\n",
    "def csv_to_json(csvFilePath, jsonFilePath):\n",
    "    jsonArray = []\n",
    "      \n",
    "    #read csv file\n",
    "    with open(csvFilePath, encoding='utf-8') as csvf: \n",
    "        #load csv file data using csv library's dictionary reader\n",
    "        csvReader = csv.DictReader(csvf) \n",
    "\n",
    "        #convert each csv row into python dict\n",
    "        for row in csvReader: \n",
    "            #add this python dict to json array\n",
    "            jsonArray.append(row)\n",
    "  \n",
    "    #convert python jsonArray to JSON String and write to file\n",
    "    with open(jsonFilePath, 'w', encoding='utf-8') as jsonf: \n",
    "        jsonString = json.dumps(jsonArray, indent=4)\n",
    "        jsonf.write(jsonString)\n",
    "          \n",
    "csvFilePath = r'./data/population.csv'\n",
    "jsonFilePath = r'./data/population.json'\n",
    "csv_to_json(csvFilePath, jsonFilePath)\n",
    "\n",
    "\n"
   ]
  },
  {
   "cell_type": "code",
   "execution_count": null,
   "id": "35dfe7b0-bbed-473b-9d8c-bea4dbd3a7ff",
   "metadata": {},
   "outputs": [],
   "source": []
  }
 ],
 "metadata": {
  "kernelspec": {
   "display_name": "Python 3 (ipykernel)",
   "language": "python",
   "name": "python3"
  },
  "language_info": {
   "codemirror_mode": {
    "name": "ipython",
    "version": 3
   },
   "file_extension": ".py",
   "mimetype": "text/x-python",
   "name": "python",
   "nbconvert_exporter": "python",
   "pygments_lexer": "ipython3",
   "version": "3.8.12"
  }
 },
 "nbformat": 4,
 "nbformat_minor": 5
}
